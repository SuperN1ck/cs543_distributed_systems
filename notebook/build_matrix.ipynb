{
 "cells": [
  {
   "cell_type": "code",
   "execution_count": null,
   "metadata": {},
   "outputs": [],
   "source": [
    "import os\n",
    "from itertools import permutations, product\n",
    "import pandas as pd\n",
    "import numpy as np\n",
    "import matplotlib.pyplot as plt"
   ]
  },
  {
   "cell_type": "code",
   "execution_count": null,
   "metadata": {},
   "outputs": [],
   "source": [
    "# magic line to have in-notebook interactive plots\n",
    "%matplotlib notebook"
   ]
  },
  {
   "cell_type": "code",
   "execution_count": null,
   "metadata": {},
   "outputs": [],
   "source": [
    "files = os.listdir(\"./gt_bbox\")\n",
    "print(\"num of files: \",len(files))\n",
    "pool = [1, 2, 3, 4, 5, 6]\n",
    "perm = []\n",
    "for x in permutations(pool, 2):\n",
    "    perm.append(x)\n",
    "data = np.zeros(shape= (30,  6))\n"
   ]
  },
  {
   "cell_type": "code",
   "execution_count": null,
   "metadata": {},
   "outputs": [],
   "source": [
    "seq_length = 165000"
   ]
  },
  {
   "cell_type": "code",
   "execution_count": null,
   "metadata": {},
   "outputs": [],
   "source": [
    "time_seq_dic = {ele: [] for ele in perm}\n",
    "\n",
    "cur_obj = 1\n",
    "cam_seq = []\n",
    "frame_seq = []\n",
    "for file in files:\n",
    "    if file == \"Thumbs.db\":\n",
    "        continue\n",
    "        \n",
    "    obj_id = int(file[:4])\n",
    "    cam_id = int(file[6])\n",
    "    seq_id = int(file[8])\n",
    "    frame_id = int(file[10:16])\n",
    "    frame_num = frame_id + seq_length * (seq_id - 1)\n",
    "    \n",
    "    if obj_id != cur_obj:\n",
    "#         if cur_obj == 3:\n",
    "#             break;\n",
    "    \n",
    "        cam_seq = np.array(cam_seq)\n",
    "        frame_seq = np.array(frame_seq)\n",
    "        frame_seq_index = np.argsort(frame_seq)\n",
    "        frame_seq_sorted = np.sort(frame_seq)\n",
    "        \n",
    "        #print(frame_seq_index)\n",
    "        #print(cam_seq[frame_seq_index])\n",
    "        #print(frame_seq_sorted)\n",
    "        \n",
    "        cam_tuple_before = ()\n",
    "        cam_tuple_after = ()\n",
    "        for i in range(len(frame_seq_sorted)-1):\n",
    "            travel_time = frame_seq_sorted[i+1] - frame_seq_sorted[i]\n",
    "            cam_id_before = cam_seq[frame_seq_index[i]]\n",
    "            cam_id_after = cam_seq[frame_seq_index[i+1]]\n",
    "                \n",
    "            if cam_id_before != cam_id_after: # if camera id is not the same\n",
    "                cam_tuple_after = cam_tuple_after + (cam_id_after,)\n",
    "                if travel_time != 0: # if travel time is 0, just add it to tuple and contiune\n",
    "                    #print(cam_tuple_before, cam_tuple_after)\n",
    "                    if len(cam_tuple_before) != 0: # if tuple is not the first one\n",
    "                        for prod in product(cam_tuple_before, cam_tuple_after): \n",
    "                            #print(prod)\n",
    "                            if prod[0] != prod[1]: # if product is not between the same cameras\n",
    "                                time_seq_dic[prod].append(travel_time)\n",
    "                    cam_tuple_before = cam_tuple_after\n",
    "                    cam_tuple_after = ()\n",
    "                else:\n",
    "                    continue\n",
    "        \n",
    "        cam_seq = []\n",
    "        frame_seq = []\n",
    "        cur_obj = obj_id\n",
    "        \n",
    "    cam_seq.append(cam_id)\n",
    "    frame_seq.append(frame_num)\n",
    "print(time_seq_dic)"
   ]
  },
  {
   "cell_type": "code",
   "execution_count": null,
   "metadata": {},
   "outputs": [],
   "source": [
    "print(time_seq_dic)"
   ]
  },
  {
   "cell_type": "code",
   "execution_count": null,
   "metadata": {},
   "outputs": [],
   "source": [
    "spatio_matrix = np.zeros(shape = (6,6))\n",
    "df_spatio = pd.DataFrame(data=spatio_matrix, index=[1,2,3,4,5,6], columns=[1,2,3,4,5,6])\n",
    "for key, value in time_seq_dic.items():\n",
    "    cam_before_id = key[0]\n",
    "    cam_after_id = key[1]\n",
    "    df_spatio.loc[cam_before_id][cam_after_id] = len(value)\n",
    "print(df_spatio)\n",
    "df_spatio_normalized = df_spatio.divide(df_spatio.sum(axis=1), axis=0)\n",
    "print(df_spatio_normalized)\n",
    "\n",
    "fig = plt.figure(figsize=(11, 8))\n",
    "fig.text(0.06, 0.5, 'Traffic Percentage (%)', ha='center', va='center', rotation='vertical')\n",
    "y = [0.0, 0.2, 0.4, 0.6, 0.8]\n",
    "x = [1, 2, 3, 4, 5, 6]\n",
    "for index, row in df_spatio_normalized.iterrows():\n",
    "    ax = plt.subplot(2, 3, index)\n",
    "    plt.bar(row.index, row.values)\n",
    "    plt.xticks(x)\n",
    "    plt.yticks(y)\n",
    "    vals = ax.get_yticks()\n",
    "    ax.set_yticklabels(['{:,.0%}'.format(x) for x in vals])\n",
    "    plt.title(\"Camera \" + str(index))\n",
    "\n",
    "plt.savefig('spatio_matrix.pdf')"
   ]
  },
  {
   "cell_type": "code",
   "execution_count": null,
   "metadata": {},
   "outputs": [],
   "source": [
    "fig = plt.figure(figsize=(11, 8))\n",
    "fig.text(0.06, 0.5, 'Frequency', ha='center', va='center', rotation='vertical')\n",
    "\n",
    "y = [0, 200, 400, 600, 800, 1200]\n",
    "for key, value in time_seq_dic.items():\n",
    "    print(value)\n",
    "    time_arr = np.array(value) / 25\n",
    "    print(time_arr)\n",
    "    ax = plt.subplot(2, 3, key[0])\n",
    "    plt.hist(time_arr, histtype=u'step',bins=np.linspace(0, 20000, 50))\n",
    "    plt.title(\"Camera \" + str(key[0]))\n",
    "\n",
    "plt.savefig('temporal_matrix.pdf')"
   ]
  },
  {
   "cell_type": "code",
   "execution_count": null,
   "metadata": {},
   "outputs": [],
   "source": [
    "# files = os.listdir(\"./gt_bbox\")\n",
    "# print(\"num of files: \",len(files))\n",
    "# pool = [1, 2, 3, 4, 5, 6]\n",
    "# comb = []\n",
    "# for x in combinations(pool, 2):\n",
    "#     comb.append(str(x))\n",
    "# data = np.zeros(shape= (15,  6))\n"
   ]
  },
  {
   "cell_type": "code",
   "execution_count": null,
   "metadata": {
    "scrolled": true
   },
   "outputs": [],
   "source": [
    "# df = pd.DataFrame(data, columns = [\"s1\", \"s2\", \"s3\", \"s4\", \"s5\", \"s6\"],\n",
    "#     index=comb)\n",
    "# df.index.name = \"Camera pairs\"\n",
    "# print(df)"
   ]
  },
  {
   "cell_type": "code",
   "execution_count": null,
   "metadata": {},
   "outputs": [],
   "source": [
    "# print(type(df.index[0]))\n",
    "# print(df.loc[\"(1, 2)\"][\"s1\"])"
   ]
  },
  {
   "cell_type": "code",
   "execution_count": null,
   "metadata": {},
   "outputs": [],
   "source": [
    "# cur_obj = 1\n",
    "# seq_dic = {\"s\" + str(i):[] for i in range(1, 7)}\n",
    "# for file in files:\n",
    "#     if file == \"Thumbs.db\":\n",
    "#         continue\n",
    "#     obj_id = int(file[:4])\n",
    "#     camera_id = int(file[6])\n",
    "#     seq_num = file[7:9]\n",
    "#     if obj_id != cur_obj:\n",
    "        \n",
    "#         pool = seq_dic[seq_num]\n",
    "#         comb = []\n",
    "#         for x in combinations(pool, 2):\n",
    "#             if x[0] != x[1]:\n",
    "#                 comb.append(str(x))\n",
    "#         for ele in comb:\n",
    "#             df.loc[ele][seq_num] = df.loc[ele][seq_num] + 1\n",
    "        \n",
    "#         seq_dic = {\"s\" + str(i):[] for i in range(1, 7)}\n",
    "#         cur_obj = obj_id\n",
    "#     seq_dic[seq_num].append(camera_id)\n",
    "# print(df)"
   ]
  },
  {
   "cell_type": "code",
   "execution_count": null,
   "metadata": {},
   "outputs": [],
   "source": [
    "df.to_csv(\"spatio_temporal_matrix.csv\", encoding=\"utf-8\")"
   ]
  }
 ],
 "metadata": {
  "kernelspec": {
   "display_name": "Python 3",
   "language": "python",
   "name": "python3"
  },
  "language_info": {
   "codemirror_mode": {
    "name": "ipython",
    "version": 3
   },
   "file_extension": ".py",
   "mimetype": "text/x-python",
   "name": "python",
   "nbconvert_exporter": "python",
   "pygments_lexer": "ipython3",
   "version": "3.6.4"
  }
 },
 "nbformat": 4,
 "nbformat_minor": 2
}
