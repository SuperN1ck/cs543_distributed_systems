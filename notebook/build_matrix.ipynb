{
 "cells": [
  {
   "cell_type": "code",
   "execution_count": null,
   "metadata": {},
   "outputs": [],
   "source": [
    "import os\n",
    "from itertools import combinations\n",
    "import pandas as pd\n",
    "import numpy as np"
   ]
  },
  {
   "cell_type": "code",
   "execution_count": null,
   "metadata": {},
   "outputs": [],
   "source": [
    "files = os.listdir(\"./gt_bbox\")\n",
    "print(\"num of files: \",len(files))\n",
    "pool = [1, 2, 3, 4, 5, 6]\n",
    "comb = []\n",
    "for x in combinations(pool, 2):\n",
    "    comb.append(str(x))\n",
    "data = np.zeros(shape= (15,  6))\n"
   ]
  },
  {
   "cell_type": "code",
   "execution_count": null,
   "metadata": {
    "scrolled": true
   },
   "outputs": [],
   "source": [
    "df = pd.DataFrame(data, columns = [\"s1\", \"s2\", \"s3\", \"s4\", \"s5\", \"s6\"],\n",
    "    index=comb)\n",
    "df.index.name = \"Camera pairs\"\n",
    "print(df)"
   ]
  },
  {
   "cell_type": "code",
   "execution_count": null,
   "metadata": {},
   "outputs": [],
   "source": [
    "print(type(df.index[0]))\n",
    "print(df.loc[\"(1, 2)\"][\"s1\"])"
   ]
  },
  {
   "cell_type": "code",
   "execution_count": null,
   "metadata": {},
   "outputs": [],
   "source": [
    "cur_obj = 1\n",
    "seq_dic = {\"s\" + str(i):[] for i in range(1, 7)}\n",
    "for file in files:\n",
    "    if file == \"Thumbs.db\":\n",
    "        continue\n",
    "    obj_id = int(file[:4])\n",
    "    camera_id = int(file[6])\n",
    "    seq_num = file[7:9]\n",
    "    if obj_id != cur_obj:\n",
    "        \n",
    "        pool = seq_dic[seq_num]\n",
    "        comb = []\n",
    "        for x in combinations(pool, 2):\n",
    "            if x[0] != x[1]:\n",
    "                comb.append(str(x))\n",
    "        for ele in comb:\n",
    "            df.loc[ele][seq_num] = df.loc[ele][seq_num] + 1\n",
    "        \n",
    "        seq_dic = {\"s\" + str(i):[] for i in range(1, 7)}\n",
    "        cur_obj = obj_id\n",
    "    seq_dic[seq_num].append(camera_id)\n",
    "print(df)"
   ]
  },
  {
   "cell_type": "code",
   "execution_count": null,
   "metadata": {},
   "outputs": [],
   "source": [
    "df.to_csv(\"spatio_temporal_matrix.csv\", encoding=\"utf-8\")"
   ]
  }
 ],
 "metadata": {
  "kernelspec": {
   "display_name": "Python 3",
   "language": "python",
   "name": "python3"
  },
  "language_info": {
   "codemirror_mode": {
    "name": "ipython",
    "version": 3
   },
   "file_extension": ".py",
   "mimetype": "text/x-python",
   "name": "python",
   "nbconvert_exporter": "python",
   "pygments_lexer": "ipython3",
   "version": "3.6.4"
  }
 },
 "nbformat": 4,
 "nbformat_minor": 2
}
